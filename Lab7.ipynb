{
 "cells": [
  {
   "cell_type": "code",
   "execution_count": 3,
   "metadata": {},
   "outputs": [],
   "source": [
    "import numpy as np\n",
    "import pandas as pd\n",
    "from math import sqrt\n",
    "import scipy\n",
    "from scipy import linalg"
   ]
  },
  {
   "cell_type": "code",
   "execution_count": 60,
   "metadata": {},
   "outputs": [],
   "source": [
    "def SVD(A):\n",
    "    print(A)\n",
    "    AT = A.transpose()\n",
    "    AdotAT = A.dot(AT)\n",
    "    ATdotA = AT.dot(A)            \n",
    "    λ, V = linalg.eig(ATdotA)\n",
    "    print(λ)\n",
    "    VT = V.transpose()\n",
    "    for i in range(len(λ)):\n",
    "        λ[i] = sqrt(abs(λ[i]))\n",
    "    λ = sorted(λ, reverse = True)\n",
    "    S = np.diag(λ)\n",
    "    S_inversed = np.linalg.inv(S)    \n",
    "    #print(S)\n",
    "    #print(S_inversed)\n",
    "    #print(V)\n",
    "    for i in range(len(V)):\n",
    "        print(V[:,i])\n",
    "    U = A.dot(V.dot(S_inversed))    \n",
    "    #print(U[:,0])\n",
    "    u, s, v = np.linalg.svd(A)\n",
    "    print(\"-------------\")\n",
    "    print(U)\n",
    "    print(S)\n",
    "    print(V)\n",
    "    print(\"-------------\")\n",
    "    print(u)\n",
    "    print(s)\n",
    "    print(v)          \n",
    "    print(\"-------------\")\n",
    "    print(A)\n",
    "    print(U.dot(S.dot(VT)))\n",
    "    return 0"
   ]
  },
  {
   "cell_type": "code",
   "execution_count": 61,
   "metadata": {},
   "outputs": [
    {
     "name": "stdout",
     "output_type": "stream",
     "text": [
      "[[0.         1.         1.        ]\n",
      " [1.41421356 2.         0.        ]\n",
      " [0.         1.         1.        ]]\n",
      "[ 8.00000000e+00+0.j -7.68216532e-18+0.j  2.00000000e+00+0.j]\n",
      "[-0.40824829 -0.8660254  -0.28867513]\n",
      "[ 0.70710678 -0.5         0.5       ]\n",
      "[-5.77350269e-01 -7.84321844e-17  8.16496581e-01]\n",
      "-------------\n",
      "[[-4.08248290e-01+0.j -5.55111512e-17+0.j  2.94586300e+08+0.j]\n",
      " [-8.16496581e-01+0.j  1.11022302e-16+0.j -2.94586300e+08+0.j]\n",
      " [-4.08248290e-01+0.j -5.55111512e-17+0.j  2.94586300e+08+0.j]]\n",
      "[[2.82842712e+00+0.j 0.00000000e+00+0.j 0.00000000e+00+0.j]\n",
      " [0.00000000e+00+0.j 1.41421356e+00+0.j 0.00000000e+00+0.j]\n",
      " [0.00000000e+00+0.j 0.00000000e+00+0.j 2.77167193e-09+0.j]]\n",
      "[[-4.08248290e-01  7.07106781e-01 -5.77350269e-01]\n",
      " [-8.66025404e-01 -5.00000000e-01 -7.84321844e-17]\n",
      " [-2.88675135e-01  5.00000000e-01  8.16496581e-01]]\n",
      "-------------\n",
      "[[-0.40824829  0.57735027 -0.70710678]\n",
      " [-0.81649658 -0.57735027  0.        ]\n",
      " [-0.40824829  0.57735027  0.70710678]]\n",
      "[2.82842712e+00 1.41421356e+00 2.37213427e-17]\n",
      "[[-4.08248290e-01 -8.66025404e-01 -2.88675135e-01]\n",
      " [-5.77350269e-01 -4.89172797e-17  8.16496581e-01]\n",
      " [-7.07106781e-01  5.00000000e-01 -5.00000000e-01]]\n",
      "-------------\n",
      "[[0.         1.         1.        ]\n",
      " [1.41421356 2.         0.        ]\n",
      " [0.         1.         1.        ]]\n",
      "[[-1.45364329e-17+0.j  1.00000000e+00+0.j  1.00000000e+00+0.j]\n",
      " [ 1.41421356e+00+0.j  2.00000000e+00+0.j -5.04566378e-16+0.j]\n",
      " [-1.45364329e-17+0.j  1.00000000e+00+0.j  1.00000000e+00+0.j]]\n"
     ]
    },
    {
     "data": {
      "text/plain": [
       "0"
      ]
     },
     "execution_count": 61,
     "metadata": {},
     "output_type": "execute_result"
    }
   ],
   "source": [
    "A = np.array([[0, 1, 1], [sqrt(2), 2, 0], [0, 1, 1]])\n",
    "#A = np.array([[0, sqrt(2), 0], [1, 2, 1], [1, 0, 1]])\n",
    "SVD(A)"
   ]
  },
  {
   "cell_type": "code",
   "execution_count": null,
   "metadata": {},
   "outputs": [],
   "source": []
  },
  {
   "cell_type": "code",
   "execution_count": null,
   "metadata": {},
   "outputs": [],
   "source": []
  },
  {
   "cell_type": "code",
   "execution_count": null,
   "metadata": {},
   "outputs": [],
   "source": []
  }
 ],
 "metadata": {
  "kernelspec": {
   "display_name": "Python 3",
   "language": "python",
   "name": "python3"
  },
  "language_info": {
   "codemirror_mode": {
    "name": "ipython",
    "version": 3
   },
   "file_extension": ".py",
   "mimetype": "text/x-python",
   "name": "python",
   "nbconvert_exporter": "python",
   "pygments_lexer": "ipython3",
   "version": "3.6.5"
  }
 },
 "nbformat": 4,
 "nbformat_minor": 2
}
