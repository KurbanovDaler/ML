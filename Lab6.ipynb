{
 "cells": [
  {
   "cell_type": "code",
   "execution_count": 1,
   "metadata": {},
   "outputs": [],
   "source": [
    "import numpy as np\n",
    "from sklearn.datasets import load_iris\n",
    "from random import random\n",
    "from sklearn.model_selection import train_test_split\n",
    "import math\n",
    "import operator"
   ]
  },
  {
   "cell_type": "code",
   "execution_count": 8,
   "metadata": {},
   "outputs": [
    {
     "data": {
      "text/plain": [
       "(150, 4)"
      ]
     },
     "execution_count": 8,
     "metadata": {},
     "output_type": "execute_result"
    }
   ],
   "source": [
    "iris_dataset = load_iris()\n",
    "iris_dataset.data.shape\n",
    "#print(df)"
   ]
  },
  {
   "cell_type": "code",
   "execution_count": 61,
   "metadata": {},
   "outputs": [],
   "source": [
    "def distance(x, y):#euclidean distance\n",
    "    dist = 0\n",
    "    for i in range(x.shape[0]):\n",
    "        dist += math.pow(x[i] - y[i], 2)\n",
    "    return math.sqrt(dist)"
   ]
  },
  {
   "cell_type": "code",
   "execution_count": 65,
   "metadata": {},
   "outputs": [],
   "source": [
    "def predict(Object, train_Data, k):\n",
    "    elements = train_Data.shape[0]\n",
    "    distances = []    \n",
    "    for i in range(elements):\n",
    "        distances.append((train_Data[i], distance(Object, train_Data[i])))\n",
    "                         \n",
    "    #print(Object)\n",
    "    #print(train_Data)\n",
    "\n",
    "    distances.sort(key=operator.itemgetter(1)) \n",
    "    \n",
    "    kNearest = []\n",
    "    \n",
    "    for i in range(k):\n",
    "        kNearest.append(distances[i][0])\n",
    "    result = 0\n",
    "    for element in kNearest:        \n",
    "        result += element[0]        \n",
    "    return result / k\n"
   ]
  },
  {
   "cell_type": "code",
   "execution_count": 66,
   "metadata": {},
   "outputs": [],
   "source": [
    "x_train, x_test, y_train, y_test = train_test_split(iris_dataset['data'], iris_dataset['target'],test_size=0.1, random_state=27)\n",
    "k = 3\n"
   ]
  },
  {
   "cell_type": "code",
   "execution_count": 67,
   "metadata": {},
   "outputs": [
    {
     "name": "stdout",
     "output_type": "stream",
     "text": [
      "6.5\n",
      "6.3999999999999995\n",
      "----------------------------\n",
      "5.5\n",
      "5.333333333333333\n",
      "----------------------------\n",
      "6.4\n",
      "6.3999999999999995\n",
      "----------------------------\n",
      "7.7\n",
      "7.566666666666666\n",
      "----------------------------\n",
      "5.6\n",
      "5.7\n",
      "----------------------------\n",
      "6.4\n",
      "6.433333333333334\n",
      "----------------------------\n",
      "6.1\n",
      "6.066666666666666\n",
      "----------------------------\n",
      "6.4\n",
      "6.466666666666666\n",
      "----------------------------\n",
      "6.7\n",
      "6.7\n",
      "----------------------------\n",
      "5.1\n",
      "5.1\n",
      "----------------------------\n",
      "5.6\n",
      "5.633333333333333\n",
      "----------------------------\n",
      "6.3\n",
      "6.2\n",
      "----------------------------\n",
      "4.6\n",
      "4.566666666666667\n",
      "----------------------------\n",
      "5.5\n",
      "5.633333333333333\n",
      "----------------------------\n",
      "6.6\n",
      "6.6000000000000005\n",
      "----------------------------\n"
     ]
    }
   ],
   "source": [
    "for i in range(len(x_test)):\n",
    "    print(x_test[i][0])\n",
    "    print(predict(x_test[i], x_train, k))\n",
    "    print(\"----------------------------\")"
   ]
  },
  {
   "cell_type": "code",
   "execution_count": null,
   "metadata": {},
   "outputs": [],
   "source": []
  }
 ],
 "metadata": {
  "kernelspec": {
   "display_name": "Python 3",
   "language": "python",
   "name": "python3"
  },
  "language_info": {
   "codemirror_mode": {
    "name": "ipython",
    "version": 3
   },
   "file_extension": ".py",
   "mimetype": "text/x-python",
   "name": "python",
   "nbconvert_exporter": "python",
   "pygments_lexer": "ipython3",
   "version": "3.6.5"
  }
 },
 "nbformat": 4,
 "nbformat_minor": 2
}
